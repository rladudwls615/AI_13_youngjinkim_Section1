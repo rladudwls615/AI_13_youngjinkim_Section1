{
  "nbformat": 4,
  "nbformat_minor": 0,
  "metadata": {
    "colab": {
      "name": "AI-13-김영진-Section1.ipynb",
      "provenance": [],
      "collapsed_sections": [
        "sPTPGVuGy27H",
        "orVTpeCmy6Aa",
        "VT-7uNm3UcKp"
      ]
    },
    "kernelspec": {
      "name": "python3",
      "display_name": "Python 3"
    },
    "language_info": {
      "name": "python"
    }
  },
  "cells": [
    {
      "cell_type": "markdown",
      "source": [
        "# 한글 사용"
      ],
      "metadata": {
        "id": "sPTPGVuGy27H"
      }
    },
    {
      "cell_type": "code",
      "source": [
        "!sudo apt-get install -y fonts-nanum\n",
        "!sudo fc-cache -fv\n",
        "!rm ~/.cache/matplotlib -rf\n",
        "\n",
        "import matplotlib.pyplot as plt\n",
        "import matplotlib as mpl\n",
        "plt.rc('font', family='NanumGothic')\n",
        "mpl.rc('axes', unicode_minus=False)"
      ],
      "metadata": {
        "colab": {
          "base_uri": "https://localhost:8080/"
        },
        "id": "rZJuhWvBCe-l",
        "outputId": "1b9f6b05-e391-4dc4-cf38-223b254ba676"
      },
      "execution_count": null,
      "outputs": [
        {
          "output_type": "stream",
          "name": "stdout",
          "text": [
            "Reading package lists... Done\n",
            "Building dependency tree       \n",
            "Reading state information... Done\n",
            "fonts-nanum is already the newest version (20170925-1).\n",
            "0 upgraded, 0 newly installed, 0 to remove and 39 not upgraded.\n",
            "/usr/share/fonts: caching, new cache contents: 0 fonts, 1 dirs\n",
            "/usr/share/fonts/truetype: caching, new cache contents: 0 fonts, 3 dirs\n",
            "/usr/share/fonts/truetype/humor-sans: caching, new cache contents: 1 fonts, 0 dirs\n",
            "/usr/share/fonts/truetype/liberation: caching, new cache contents: 16 fonts, 0 dirs\n",
            "/usr/share/fonts/truetype/nanum: caching, new cache contents: 10 fonts, 0 dirs\n",
            "/usr/local/share/fonts: caching, new cache contents: 0 fonts, 0 dirs\n",
            "/root/.local/share/fonts: skipping, no such directory\n",
            "/root/.fonts: skipping, no such directory\n",
            "/var/cache/fontconfig: cleaning cache directory\n",
            "/root/.cache/fontconfig: not cleaning non-existent cache directory\n",
            "/root/.fontconfig: not cleaning non-existent cache directory\n",
            "fc-cache: succeeded\n"
          ]
        }
      ]
    },
    {
      "cell_type": "markdown",
      "source": [
        "# 외부 데이터 업로드"
      ],
      "metadata": {
        "id": "orVTpeCmy6Aa"
      }
    },
    {
      "cell_type": "code",
      "execution_count": null,
      "metadata": {
        "id": "mFnramWVQ0GQ"
      },
      "outputs": [],
      "source": [
        "import pandas as pd\n",
        "import numpy as np\n",
        "import matplotlib.pyplot as plt\n",
        "import seaborn as sns\n",
        "from sklearn.preprocessing import StandardScaler\n",
        "from sklearn.decomposition import PCA\n",
        "\n",
        "from google.colab import files"
      ]
    },
    {
      "cell_type": "code",
      "source": [
        "uploaded = files.upload()"
      ],
      "metadata": {
        "id": "H3PM3IPnS84d",
        "colab": {
          "resources": {
            "http://localhost:8080/nbextensions/google.colab/files.js": {
              "data": "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",
              "ok": true,
              "headers": [
                [
                  "content-type",
                  "application/javascript"
                ]
              ],
              "status": 200,
              "status_text": ""
            }
          },
          "base_uri": "https://localhost:8080/",
          "height": 76
        },
        "outputId": "ff33d416-02d0-4036-d662-c609e0bc3023"
      },
      "execution_count": null,
      "outputs": [
        {
          "output_type": "display_data",
          "data": {
            "text/plain": [
              "<IPython.core.display.HTML object>"
            ],
            "text/html": [
              "\n",
              "     <input type=\"file\" id=\"files-5beb6a51-1f60-4143-8f27-798e2951640c\" name=\"files[]\" multiple disabled\n",
              "        style=\"border:none\" />\n",
              "     <output id=\"result-5beb6a51-1f60-4143-8f27-798e2951640c\">\n",
              "      Upload widget is only available when the cell has been executed in the\n",
              "      current browser session. Please rerun this cell to enable.\n",
              "      </output>\n",
              "      <script src=\"/nbextensions/google.colab/files.js\"></script> "
            ]
          },
          "metadata": {}
        },
        {
          "output_type": "stream",
          "name": "stdout",
          "text": [
            "Saving vgames2.csv to vgames2 (2).csv\n"
          ]
        }
      ]
    },
    {
      "cell_type": "code",
      "source": [
        "df = pd.read_csv('vgames2.csv',index_col=0)"
      ],
      "metadata": {
        "id": "f3EQzx-RTDpA"
      },
      "execution_count": null,
      "outputs": []
    },
    {
      "cell_type": "markdown",
      "source": [
        "# 단위를 맞추기 위한함수\n",
        "\n",
        "ex) 인스타그램 팔로우수\n",
        "\n",
        "K = 10^3(Kilo)\n",
        "\n",
        "M = 10^6(Million)\n",
        "\n",
        "1의단위로 초기화"
      ],
      "metadata": {
        "id": "_j-rtmCEtAF8"
      }
    },
    {
      "cell_type": "code",
      "source": [
        "def reunit(col): # 단위를 1단위로 초기화\n",
        "  if 'K' in col:\n",
        "    K = col.replace(\"K\",\"\")\n",
        "    K = pd.to_numeric(K)\n",
        "    return K*1000\n",
        "  elif 'M' in col:\n",
        "    M = col.replace(\"M\",\"\")\n",
        "    M = pd.to_numeric(M)\n",
        "    return M*1000000\n",
        "  else:\n",
        "    one = pd.to_numeric(col)\n",
        "    return one*1000000"
      ],
      "metadata": {
        "id": "11TTACqjTQVk"
      },
      "execution_count": null,
      "outputs": []
    },
    {
      "cell_type": "markdown",
      "source": [
        "# Year 형태를 통일하기위한 함수\n",
        "\n",
        "2, 3, 4 ... 은 2000년대로 통일\n",
        "\n",
        "89, 90, 91 ... 은 1900년대로 통일"
      ],
      "metadata": {
        "id": "MFydZnJCt9Mr"
      }
    },
    {
      "cell_type": "code",
      "source": [
        "def reyear(col): # Year 형태 통일\n",
        "  if col == 0:\n",
        "    return col\n",
        "  elif col < 30:\n",
        "    return col+2000\n",
        "  elif col < 100:\n",
        "    return col+1900\n",
        "  else:\n",
        "    return col"
      ],
      "metadata": {
        "id": "BwujhOTSlztZ"
      },
      "execution_count": null,
      "outputs": []
    },
    {
      "cell_type": "markdown",
      "source": [
        "# Cleaning"
      ],
      "metadata": {
        "id": "g-L5OZuLWJXQ"
      }
    },
    {
      "cell_type": "code",
      "source": [
        "df = df.fillna(0)\n",
        "\n",
        "df['NA_Sales'] = df['NA_Sales'].apply(reunit)\n",
        "df['EU_Sales'] = df['EU_Sales'].apply(reunit)\n",
        "df['JP_Sales'] = df['JP_Sales'].apply(reunit)\n",
        "df['Other_Sales'] = df['Other_Sales'].apply(reunit)\n",
        "df['Year'] = df['Year'].apply(reyear)"
      ],
      "metadata": {
        "id": "eKVUQDS8jGO-"
      },
      "execution_count": null,
      "outputs": []
    },
    {
      "cell_type": "code",
      "source": [
        "df = df[~(df['Genre'] == 0)]"
      ],
      "metadata": {
        "id": "-wP5StItPpB1"
      },
      "execution_count": null,
      "outputs": []
    },
    {
      "cell_type": "code",
      "source": [
        "df"
      ],
      "metadata": {
        "colab": {
          "base_uri": "https://localhost:8080/",
          "height": 424
        },
        "id": "gAmrHPmU0fpt",
        "outputId": "cf81ff8e-2969-4a25-b56b-dcfcb52a3a9c"
      },
      "execution_count": null,
      "outputs": [
        {
          "output_type": "execute_result",
          "data": {
            "text/plain": [
              "                                                 Name Platform    Year  \\\n",
              "1                        Candace Kane's Candy Factory       DS  2008.0   \n",
              "2                                      The Munchables      Wii  2009.0   \n",
              "3      Otome wa Oanesama Boku ni Koi Shiteru Portable      PSP  2010.0   \n",
              "4                    Deal or No Deal: Special Edition       DS  2010.0   \n",
              "5           Ben 10 Ultimate Alien: Cosmic Destruction      PS3  2010.0   \n",
              "...                                               ...      ...     ...   \n",
              "16594                         Ice Age 2: The Meltdown       GC  2006.0   \n",
              "16595                     Rainbow Islands: Revolution      PSP  2005.0   \n",
              "16596                                        NBA 2K16      PS3  2015.0   \n",
              "16597                     Toukiden: The Age of Demons      PSV  2013.0   \n",
              "16598                        The King of Fighters '95       PS  1996.0   \n",
              "\n",
              "           Genre                    Publisher  NA_Sales  EU_Sales  JP_Sales  \\\n",
              "1         Action                    Destineer   40000.0       0.0       0.0   \n",
              "2         Action           Namco Bandai Games  170000.0       0.0       0.0   \n",
              "3      Adventure                    Alchemist       0.0       0.0   20000.0   \n",
              "4           Misc                    Zoo Games   40000.0       0.0       0.0   \n",
              "5       Platform                  D3Publisher  120000.0   90000.0       0.0   \n",
              "...          ...                          ...       ...       ...       ...   \n",
              "16594   Platform                Vivendi Games  150000.0   40000.0       0.0   \n",
              "16595     Action            Rising Star Games   10000.0       0.0       0.0   \n",
              "16596     Sports         Take-Two Interactive  440000.0  190000.0   30000.0   \n",
              "16597     Action                   Tecmo Koei   50000.0   50000.0  250000.0   \n",
              "16598   Fighting  Sony Computer Entertainment       0.0       0.0  160000.0   \n",
              "\n",
              "       Other_Sales     total  \n",
              "1              0.0   40000.0  \n",
              "2          10000.0  180000.0  \n",
              "3              0.0   20000.0  \n",
              "4              0.0   40000.0  \n",
              "5          40000.0  250000.0  \n",
              "...            ...       ...  \n",
              "16594      10000.0  200000.0  \n",
              "16595          0.0   10000.0  \n",
              "16596     130000.0  790000.0  \n",
              "16597      30000.0  380000.0  \n",
              "16598      10000.0  170000.0  \n",
              "\n",
              "[16548 rows x 10 columns]"
            ],
            "text/html": [
              "\n",
              "  <div id=\"df-98690ad4-5805-4e58-b873-37b912dbcac7\">\n",
              "    <div class=\"colab-df-container\">\n",
              "      <div>\n",
              "<style scoped>\n",
              "    .dataframe tbody tr th:only-of-type {\n",
              "        vertical-align: middle;\n",
              "    }\n",
              "\n",
              "    .dataframe tbody tr th {\n",
              "        vertical-align: top;\n",
              "    }\n",
              "\n",
              "    .dataframe thead th {\n",
              "        text-align: right;\n",
              "    }\n",
              "</style>\n",
              "<table border=\"1\" class=\"dataframe\">\n",
              "  <thead>\n",
              "    <tr style=\"text-align: right;\">\n",
              "      <th></th>\n",
              "      <th>Name</th>\n",
              "      <th>Platform</th>\n",
              "      <th>Year</th>\n",
              "      <th>Genre</th>\n",
              "      <th>Publisher</th>\n",
              "      <th>NA_Sales</th>\n",
              "      <th>EU_Sales</th>\n",
              "      <th>JP_Sales</th>\n",
              "      <th>Other_Sales</th>\n",
              "      <th>total</th>\n",
              "    </tr>\n",
              "  </thead>\n",
              "  <tbody>\n",
              "    <tr>\n",
              "      <th>1</th>\n",
              "      <td>Candace Kane's Candy Factory</td>\n",
              "      <td>DS</td>\n",
              "      <td>2008.0</td>\n",
              "      <td>Action</td>\n",
              "      <td>Destineer</td>\n",
              "      <td>40000.0</td>\n",
              "      <td>0.0</td>\n",
              "      <td>0.0</td>\n",
              "      <td>0.0</td>\n",
              "      <td>40000.0</td>\n",
              "    </tr>\n",
              "    <tr>\n",
              "      <th>2</th>\n",
              "      <td>The Munchables</td>\n",
              "      <td>Wii</td>\n",
              "      <td>2009.0</td>\n",
              "      <td>Action</td>\n",
              "      <td>Namco Bandai Games</td>\n",
              "      <td>170000.0</td>\n",
              "      <td>0.0</td>\n",
              "      <td>0.0</td>\n",
              "      <td>10000.0</td>\n",
              "      <td>180000.0</td>\n",
              "    </tr>\n",
              "    <tr>\n",
              "      <th>3</th>\n",
              "      <td>Otome wa Oanesama Boku ni Koi Shiteru Portable</td>\n",
              "      <td>PSP</td>\n",
              "      <td>2010.0</td>\n",
              "      <td>Adventure</td>\n",
              "      <td>Alchemist</td>\n",
              "      <td>0.0</td>\n",
              "      <td>0.0</td>\n",
              "      <td>20000.0</td>\n",
              "      <td>0.0</td>\n",
              "      <td>20000.0</td>\n",
              "    </tr>\n",
              "    <tr>\n",
              "      <th>4</th>\n",
              "      <td>Deal or No Deal: Special Edition</td>\n",
              "      <td>DS</td>\n",
              "      <td>2010.0</td>\n",
              "      <td>Misc</td>\n",
              "      <td>Zoo Games</td>\n",
              "      <td>40000.0</td>\n",
              "      <td>0.0</td>\n",
              "      <td>0.0</td>\n",
              "      <td>0.0</td>\n",
              "      <td>40000.0</td>\n",
              "    </tr>\n",
              "    <tr>\n",
              "      <th>5</th>\n",
              "      <td>Ben 10 Ultimate Alien: Cosmic Destruction</td>\n",
              "      <td>PS3</td>\n",
              "      <td>2010.0</td>\n",
              "      <td>Platform</td>\n",
              "      <td>D3Publisher</td>\n",
              "      <td>120000.0</td>\n",
              "      <td>90000.0</td>\n",
              "      <td>0.0</td>\n",
              "      <td>40000.0</td>\n",
              "      <td>250000.0</td>\n",
              "    </tr>\n",
              "    <tr>\n",
              "      <th>...</th>\n",
              "      <td>...</td>\n",
              "      <td>...</td>\n",
              "      <td>...</td>\n",
              "      <td>...</td>\n",
              "      <td>...</td>\n",
              "      <td>...</td>\n",
              "      <td>...</td>\n",
              "      <td>...</td>\n",
              "      <td>...</td>\n",
              "      <td>...</td>\n",
              "    </tr>\n",
              "    <tr>\n",
              "      <th>16594</th>\n",
              "      <td>Ice Age 2: The Meltdown</td>\n",
              "      <td>GC</td>\n",
              "      <td>2006.0</td>\n",
              "      <td>Platform</td>\n",
              "      <td>Vivendi Games</td>\n",
              "      <td>150000.0</td>\n",
              "      <td>40000.0</td>\n",
              "      <td>0.0</td>\n",
              "      <td>10000.0</td>\n",
              "      <td>200000.0</td>\n",
              "    </tr>\n",
              "    <tr>\n",
              "      <th>16595</th>\n",
              "      <td>Rainbow Islands: Revolution</td>\n",
              "      <td>PSP</td>\n",
              "      <td>2005.0</td>\n",
              "      <td>Action</td>\n",
              "      <td>Rising Star Games</td>\n",
              "      <td>10000.0</td>\n",
              "      <td>0.0</td>\n",
              "      <td>0.0</td>\n",
              "      <td>0.0</td>\n",
              "      <td>10000.0</td>\n",
              "    </tr>\n",
              "    <tr>\n",
              "      <th>16596</th>\n",
              "      <td>NBA 2K16</td>\n",
              "      <td>PS3</td>\n",
              "      <td>2015.0</td>\n",
              "      <td>Sports</td>\n",
              "      <td>Take-Two Interactive</td>\n",
              "      <td>440000.0</td>\n",
              "      <td>190000.0</td>\n",
              "      <td>30000.0</td>\n",
              "      <td>130000.0</td>\n",
              "      <td>790000.0</td>\n",
              "    </tr>\n",
              "    <tr>\n",
              "      <th>16597</th>\n",
              "      <td>Toukiden: The Age of Demons</td>\n",
              "      <td>PSV</td>\n",
              "      <td>2013.0</td>\n",
              "      <td>Action</td>\n",
              "      <td>Tecmo Koei</td>\n",
              "      <td>50000.0</td>\n",
              "      <td>50000.0</td>\n",
              "      <td>250000.0</td>\n",
              "      <td>30000.0</td>\n",
              "      <td>380000.0</td>\n",
              "    </tr>\n",
              "    <tr>\n",
              "      <th>16598</th>\n",
              "      <td>The King of Fighters '95</td>\n",
              "      <td>PS</td>\n",
              "      <td>1996.0</td>\n",
              "      <td>Fighting</td>\n",
              "      <td>Sony Computer Entertainment</td>\n",
              "      <td>0.0</td>\n",
              "      <td>0.0</td>\n",
              "      <td>160000.0</td>\n",
              "      <td>10000.0</td>\n",
              "      <td>170000.0</td>\n",
              "    </tr>\n",
              "  </tbody>\n",
              "</table>\n",
              "<p>16548 rows × 10 columns</p>\n",
              "</div>\n",
              "      <button class=\"colab-df-convert\" onclick=\"convertToInteractive('df-98690ad4-5805-4e58-b873-37b912dbcac7')\"\n",
              "              title=\"Convert this dataframe to an interactive table.\"\n",
              "              style=\"display:none;\">\n",
              "        \n",
              "  <svg xmlns=\"http://www.w3.org/2000/svg\" height=\"24px\"viewBox=\"0 0 24 24\"\n",
              "       width=\"24px\">\n",
              "    <path d=\"M0 0h24v24H0V0z\" fill=\"none\"/>\n",
              "    <path d=\"M18.56 5.44l.94 2.06.94-2.06 2.06-.94-2.06-.94-.94-2.06-.94 2.06-2.06.94zm-11 1L8.5 8.5l.94-2.06 2.06-.94-2.06-.94L8.5 2.5l-.94 2.06-2.06.94zm10 10l.94 2.06.94-2.06 2.06-.94-2.06-.94-.94-2.06-.94 2.06-2.06.94z\"/><path d=\"M17.41 7.96l-1.37-1.37c-.4-.4-.92-.59-1.43-.59-.52 0-1.04.2-1.43.59L10.3 9.45l-7.72 7.72c-.78.78-.78 2.05 0 2.83L4 21.41c.39.39.9.59 1.41.59.51 0 1.02-.2 1.41-.59l7.78-7.78 2.81-2.81c.8-.78.8-2.07 0-2.86zM5.41 20L4 18.59l7.72-7.72 1.47 1.35L5.41 20z\"/>\n",
              "  </svg>\n",
              "      </button>\n",
              "      \n",
              "  <style>\n",
              "    .colab-df-container {\n",
              "      display:flex;\n",
              "      flex-wrap:wrap;\n",
              "      gap: 12px;\n",
              "    }\n",
              "\n",
              "    .colab-df-convert {\n",
              "      background-color: #E8F0FE;\n",
              "      border: none;\n",
              "      border-radius: 50%;\n",
              "      cursor: pointer;\n",
              "      display: none;\n",
              "      fill: #1967D2;\n",
              "      height: 32px;\n",
              "      padding: 0 0 0 0;\n",
              "      width: 32px;\n",
              "    }\n",
              "\n",
              "    .colab-df-convert:hover {\n",
              "      background-color: #E2EBFA;\n",
              "      box-shadow: 0px 1px 2px rgba(60, 64, 67, 0.3), 0px 1px 3px 1px rgba(60, 64, 67, 0.15);\n",
              "      fill: #174EA6;\n",
              "    }\n",
              "\n",
              "    [theme=dark] .colab-df-convert {\n",
              "      background-color: #3B4455;\n",
              "      fill: #D2E3FC;\n",
              "    }\n",
              "\n",
              "    [theme=dark] .colab-df-convert:hover {\n",
              "      background-color: #434B5C;\n",
              "      box-shadow: 0px 1px 3px 1px rgba(0, 0, 0, 0.15);\n",
              "      filter: drop-shadow(0px 1px 2px rgba(0, 0, 0, 0.3));\n",
              "      fill: #FFFFFF;\n",
              "    }\n",
              "  </style>\n",
              "\n",
              "      <script>\n",
              "        const buttonEl =\n",
              "          document.querySelector('#df-98690ad4-5805-4e58-b873-37b912dbcac7 button.colab-df-convert');\n",
              "        buttonEl.style.display =\n",
              "          google.colab.kernel.accessAllowed ? 'block' : 'none';\n",
              "\n",
              "        async function convertToInteractive(key) {\n",
              "          const element = document.querySelector('#df-98690ad4-5805-4e58-b873-37b912dbcac7');\n",
              "          const dataTable =\n",
              "            await google.colab.kernel.invokeFunction('convertToInteractive',\n",
              "                                                     [key], {});\n",
              "          if (!dataTable) return;\n",
              "\n",
              "          const docLinkHtml = 'Like what you see? Visit the ' +\n",
              "            '<a target=\"_blank\" href=https://colab.research.google.com/notebooks/data_table.ipynb>data table notebook</a>'\n",
              "            + ' to learn more about interactive tables.';\n",
              "          element.innerHTML = '';\n",
              "          dataTable['output_type'] = 'display_data';\n",
              "          await google.colab.output.renderOutput(dataTable, element);\n",
              "          const docLink = document.createElement('div');\n",
              "          docLink.innerHTML = docLinkHtml;\n",
              "          element.appendChild(docLink);\n",
              "        }\n",
              "      </script>\n",
              "    </div>\n",
              "  </div>\n",
              "  "
            ]
          },
          "metadata": {},
          "execution_count": 169
        }
      ]
    },
    {
      "cell_type": "markdown",
      "source": [
        "# 나라별 선호 장르 분석"
      ],
      "metadata": {
        "id": "kIuSmicoVt3C"
      }
    },
    {
      "cell_type": "markdown",
      "source": [
        "## 나라별 데이터 분리"
      ],
      "metadata": {
        "id": "8aqWNOJQzz16"
      }
    },
    {
      "cell_type": "markdown",
      "source": [
        "### 북미별 장르 TOP 7"
      ],
      "metadata": {
        "id": "uOWg3Ziu9kBC"
      }
    },
    {
      "cell_type": "code",
      "source": [
        "NA_Gen = df.groupby('Genre').NA_Sales.mean()\n",
        "NA_Gen = NA_Gen.sort_values(ascending=False)\n",
        "NA_TOP7 = pd.DataFrame(NA_Gen[0:7])"
      ],
      "metadata": {
        "id": "i0OiCFsCmEba"
      },
      "execution_count": null,
      "outputs": []
    },
    {
      "cell_type": "markdown",
      "source": [
        "### 유렵별 장르 TOP 7"
      ],
      "metadata": {
        "id": "kR88wlUr91t4"
      }
    },
    {
      "cell_type": "code",
      "source": [
        "EU_Gen = df.groupby('Genre').EU_Sales.mean()\n",
        "EU_Gen = EU_Gen.sort_values(ascending=False)\n",
        "EU_TOP7 = pd.DataFrame(EU_Gen[0:7])"
      ],
      "metadata": {
        "id": "pDP6t1U791t_"
      },
      "execution_count": null,
      "outputs": []
    },
    {
      "cell_type": "markdown",
      "source": [
        "### 일본별 장르 TOP 7"
      ],
      "metadata": {
        "id": "-D0pTlSt92Sw"
      }
    },
    {
      "cell_type": "code",
      "source": [
        "JP_Gen = df.groupby('Genre').JP_Sales.mean()\n",
        "JP_Gen = JP_Gen.sort_values(ascending=False)\n",
        "JP_TOP7 = pd.DataFrame(JP_Gen[0:7])"
      ],
      "metadata": {
        "id": "6KSf_lnY92Sx"
      },
      "execution_count": null,
      "outputs": []
    },
    {
      "cell_type": "markdown",
      "source": [
        "### 기타나라별 장르 TOP 7"
      ],
      "metadata": {
        "id": "gFMTcXxh92e4"
      }
    },
    {
      "cell_type": "code",
      "source": [
        "Other_Gen = df.groupby('Genre').Other_Sales.mean()\n",
        "Other_Gen = Other_Gen.sort_values(ascending=False)\n",
        "Other_TOP7 = pd.DataFrame(Other_Gen[0:7])"
      ],
      "metadata": {
        "id": "lKW9aXrL92e4"
      },
      "execution_count": null,
      "outputs": []
    },
    {
      "cell_type": "markdown",
      "source": [
        "## 나라별 장르 시각화"
      ],
      "metadata": {
        "id": "6nYtP1NsV2fd"
      }
    },
    {
      "cell_type": "code",
      "source": [
        "f = plt.figure(figsize=(18,10))\n",
        "ax1= f.add_subplot(221)\n",
        "ax2 = f.add_subplot(222)\n",
        "ax3= f.add_subplot(223)\n",
        "ax4 = f.add_subplot(224)\n",
        "\n",
        "ax1.bar(NA_TOP7.index,NA_TOP7['NA_Sales'], color = 'm')\n",
        "ax2.bar(EU_TOP7.index,EU_TOP7['EU_Sales'], color = 'b')\n",
        "ax3.bar(JP_TOP7.index,JP_TOP7['JP_Sales'], color = 'g')\n",
        "ax4.bar(Other_TOP7.index,Other_TOP7['Other_Sales'], color = 'y')\n",
        "\n",
        "plt.suptitle('나라별 인기 장르', fontsize = 30)\n",
        "ax1.set_title(\"북미\", fontsize = 15)\n",
        "ax2.set_title(\"유럽\", fontsize = 15)\n",
        "ax3.set_title(\"일본\", fontsize = 15)\n",
        "ax4.set_title(\"기타\", fontsize = 15)\n",
        "\n",
        "plt.show()"
      ],
      "metadata": {
        "id": "wcT04tmTp_zT",
        "colab": {
          "base_uri": "https://localhost:8080/",
          "height": 662
        },
        "outputId": "00774741-021b-4bb9-8928-a85c27bc2028"
      },
      "execution_count": null,
      "outputs": [
        {
          "output_type": "display_data",
          "data": {
            "text/plain": [
              "<Figure size 1296x720 with 4 Axes>"
            ],
            "image/png": "[encoded data removed]"
          },
          "metadata": {
            "needs_background": "light"
          }
        }
      ]
    },
    {
      "cell_type": "markdown",
      "source": [
        "## $\\chi^2$ 테스트"
      ],
      "metadata": {
        "id": "5uX3AVqYG2jw"
      }
    },
    {
      "cell_type": "code",
      "source": [
        "from scipy.stats import chi2_contingency\n",
        "\n",
        "df1 = df.loc[:,'Genre']\n",
        "df2 = df.loc[:,'NA_Sales':'Other_Sales']\n",
        "\n",
        "GenbyCon = pd.concat([df1,df2],axis=1)\n",
        "GenbyCon.set_index('Genre', inplace=True)\n",
        "GenbyCon = GenbyCon[~((GenbyCon['NA_Sales'] == 0)&(GenbyCon['EU_Sales'] == 0)&(GenbyCon['JP_Sales'] == 0)&(GenbyCon['Other_Sales'] == 0))] # 모든 값이 0인 row가 존재, 삭제 필요\n",
        "GenbyCon_total = GenbyCon.groupby('Genre').mean() # 그룹화 시킴\n",
        "\n",
        "print('p-value :',chi2_contingency(GenbyCon_total, correction = False)[1])\n",
        "print('\\n')\n",
        "print('p-value :',chi2_contingency(GenbyCon_total, correction = True)[1])"
      ],
      "metadata": {
        "id": "IljciKsTIPSR",
        "colab": {
          "base_uri": "https://localhost:8080/"
        },
        "outputId": "b3f41812-4799-49b0-cd0a-7ff4dc8da3dd"
      },
      "execution_count": null,
      "outputs": [
        {
          "output_type": "stream",
          "name": "stdout",
          "text": [
            "p-value : 0.0\n",
            "\n",
            "\n",
            "p-value : 0.0\n"
          ]
        }
      ]
    },
    {
      "cell_type": "markdown",
      "source": [
        "# 연도별 트렌드 분석"
      ],
      "metadata": {
        "id": "Ozl8Jf7piuPD"
      }
    },
    {
      "cell_type": "markdown",
      "source": [
        "### 범위 지정\n",
        "\n",
        "너무 오래된 게임은 분석해도 의미 없는것으로 간주 최소 2006이전 제외\n",
        "\n",
        "2017 이후는 데이터가 현저히 부족하므로 제외"
      ],
      "metadata": {
        "id": "MRz4c7JTjyz2"
      }
    },
    {
      "cell_type": "code",
      "source": [
        "fill_Gen = df[(df['Year'] >2005) & (df['Year'] < 2017)]"
      ],
      "metadata": {
        "id": "kEUrf6yFFuIM"
      },
      "execution_count": null,
      "outputs": []
    },
    {
      "cell_type": "code",
      "source": [
        "Year_Gen = pd.crosstab(fill_Gen.Year,fill_Gen.Genre)"
      ],
      "metadata": {
        "id": "VCAoayUQUtD9"
      },
      "execution_count": null,
      "outputs": []
    },
    {
      "cell_type": "markdown",
      "source": [
        "### 출시 게임이 많은 순(column)으로 정렬"
      ],
      "metadata": {
        "id": "_0jSrPIZi20_"
      }
    },
    {
      "cell_type": "code",
      "source": [
        "Year_Gen_T = Year_Gen.T\n",
        "Year_Gen_mean = Year_Gen_T.mean(axis=1)\n",
        "Year_Gen_T['mean'] = Year_Gen_mean\n",
        "Year_Gen_T =Year_Gen_T.sort_values(by = 'mean', ascending=False)\n",
        "Year_Gen = Year_Gen_T.T\n",
        "Year_Gen = Year_Gen.drop(index = 'mean')\n",
        "Year_Gen\n",
        "\n",
        "# 년도별 출시 수"
      ],
      "metadata": {
        "id": "8tkpz1CjeW-2",
        "colab": {
          "base_uri": "https://localhost:8080/",
          "height": 425
        },
        "outputId": "8e2efb62-f8b3-4291-e8d7-b51c0c99e038"
      },
      "execution_count": null,
      "outputs": [
        {
          "output_type": "execute_result",
          "data": {
            "text/plain": [
              "Genre   Action  Sports   Misc  Adventure  Role-Playing  Shooter  Simulation  \\\n",
              "Year                                                                          \n",
              "2006.0   184.0   138.0  109.0       71.0         108.0     69.0        58.0   \n",
              "2007.0   210.0   167.0  151.0       84.0         103.0     84.0        90.0   \n",
              "2008.0   219.0   200.0  210.0      166.0         112.0     83.0       118.0   \n",
              "2009.0   271.0   184.0  207.0      141.0         103.0     91.0       123.0   \n",
              "2010.0   226.0   185.0  200.0      153.0         103.0     81.0        81.0   \n",
              "2011.0   239.0   122.0  183.0      107.0          95.0     94.0        56.0   \n",
              "2012.0   264.0    54.0   38.0       57.0          78.0     48.0        18.0   \n",
              "2013.0   148.0    53.0   42.0       60.0          70.0     59.0        18.0   \n",
              "2014.0   186.0    55.0   41.0       75.0          91.0     47.0        11.0   \n",
              "2015.0   253.0    62.0   39.0       53.0          78.0     34.0        15.0   \n",
              "2016.0   119.0    38.0   18.0       34.0          40.0     32.0         9.0   \n",
              "\n",
              "Genre   Racing  Fighting  Strategy  Puzzle  Platform  \n",
              "Year                                                  \n",
              "2006.0    75.0      55.0      42.0    42.0      54.0  \n",
              "2007.0    84.0      50.0      66.0    65.0      42.0  \n",
              "2008.0    82.0      57.0      50.0    64.0      62.0  \n",
              "2009.0    83.0      53.0      65.0    79.0      28.0  \n",
              "2010.0    57.0      40.0      53.0    45.0      31.0  \n",
              "2011.0    65.0      49.0      46.0    43.0      37.0  \n",
              "2012.0    30.0      29.0      15.0    11.0      12.0  \n",
              "2013.0    16.0      20.0      19.0     3.0      37.0  \n",
              "2014.0    27.0      23.0       8.0     8.0      10.0  \n",
              "2015.0    19.0      21.0      17.0     6.0      14.0  \n",
              "2016.0    20.0      14.0      10.0     0.0      10.0  "
            ],
            "text/html": [
              "\n",
              "  <div id=\"df-bd6fa85b-2819-49e5-b3b5-64c580ebe704\">\n",
              "    <div class=\"colab-df-container\">\n",
              "      <div>\n",
              "<style scoped>\n",
              "    .dataframe tbody tr th:only-of-type {\n",
              "        vertical-align: middle;\n",
              "    }\n",
              "\n",
              "    .dataframe tbody tr th {\n",
              "        vertical-align: top;\n",
              "    }\n",
              "\n",
              "    .dataframe thead th {\n",
              "        text-align: right;\n",
              "    }\n",
              "</style>\n",
              "<table border=\"1\" class=\"dataframe\">\n",
              "  <thead>\n",
              "    <tr style=\"text-align: right;\">\n",
              "      <th>Genre</th>\n",
              "      <th>Action</th>\n",
              "      <th>Sports</th>\n",
              "      <th>Misc</th>\n",
              "      <th>Adventure</th>\n",
              "      <th>Role-Playing</th>\n",
              "      <th>Shooter</th>\n",
              "      <th>Simulation</th>\n",
              "      <th>Racing</th>\n",
              "      <th>Fighting</th>\n",
              "      <th>Strategy</th>\n",
              "      <th>Puzzle</th>\n",
              "      <th>Platform</th>\n",
              "    </tr>\n",
              "    <tr>\n",
              "      <th>Year</th>\n",
              "      <th></th>\n",
              "      <th></th>\n",
              "      <th></th>\n",
              "      <th></th>\n",
              "      <th></th>\n",
              "      <th></th>\n",
              "      <th></th>\n",
              "      <th></th>\n",
              "      <th></th>\n",
              "      <th></th>\n",
              "      <th></th>\n",
              "      <th></th>\n",
              "    </tr>\n",
              "  </thead>\n",
              "  <tbody>\n",
              "    <tr>\n",
              "      <th>2006.0</th>\n",
              "      <td>184.0</td>\n",
              "      <td>138.0</td>\n",
              "      <td>109.0</td>\n",
              "      <td>71.0</td>\n",
              "      <td>108.0</td>\n",
              "      <td>69.0</td>\n",
              "      <td>58.0</td>\n",
              "      <td>75.0</td>\n",
              "      <td>55.0</td>\n",
              "      <td>42.0</td>\n",
              "      <td>42.0</td>\n",
              "      <td>54.0</td>\n",
              "    </tr>\n",
              "    <tr>\n",
              "      <th>2007.0</th>\n",
              "      <td>210.0</td>\n",
              "      <td>167.0</td>\n",
              "      <td>151.0</td>\n",
              "      <td>84.0</td>\n",
              "      <td>103.0</td>\n",
              "      <td>84.0</td>\n",
              "      <td>90.0</td>\n",
              "      <td>84.0</td>\n",
              "      <td>50.0</td>\n",
              "      <td>66.0</td>\n",
              "      <td>65.0</td>\n",
              "      <td>42.0</td>\n",
              "    </tr>\n",
              "    <tr>\n",
              "      <th>2008.0</th>\n",
              "      <td>219.0</td>\n",
              "      <td>200.0</td>\n",
              "      <td>210.0</td>\n",
              "      <td>166.0</td>\n",
              "      <td>112.0</td>\n",
              "      <td>83.0</td>\n",
              "      <td>118.0</td>\n",
              "      <td>82.0</td>\n",
              "      <td>57.0</td>\n",
              "      <td>50.0</td>\n",
              "      <td>64.0</td>\n",
              "      <td>62.0</td>\n",
              "    </tr>\n",
              "    <tr>\n",
              "      <th>2009.0</th>\n",
              "      <td>271.0</td>\n",
              "      <td>184.0</td>\n",
              "      <td>207.0</td>\n",
              "      <td>141.0</td>\n",
              "      <td>103.0</td>\n",
              "      <td>91.0</td>\n",
              "      <td>123.0</td>\n",
              "      <td>83.0</td>\n",
              "      <td>53.0</td>\n",
              "      <td>65.0</td>\n",
              "      <td>79.0</td>\n",
              "      <td>28.0</td>\n",
              "    </tr>\n",
              "    <tr>\n",
              "      <th>2010.0</th>\n",
              "      <td>226.0</td>\n",
              "      <td>185.0</td>\n",
              "      <td>200.0</td>\n",
              "      <td>153.0</td>\n",
              "      <td>103.0</td>\n",
              "      <td>81.0</td>\n",
              "      <td>81.0</td>\n",
              "      <td>57.0</td>\n",
              "      <td>40.0</td>\n",
              "      <td>53.0</td>\n",
              "      <td>45.0</td>\n",
              "      <td>31.0</td>\n",
              "    </tr>\n",
              "    <tr>\n",
              "      <th>2011.0</th>\n",
              "      <td>239.0</td>\n",
              "      <td>122.0</td>\n",
              "      <td>183.0</td>\n",
              "      <td>107.0</td>\n",
              "      <td>95.0</td>\n",
              "      <td>94.0</td>\n",
              "      <td>56.0</td>\n",
              "      <td>65.0</td>\n",
              "      <td>49.0</td>\n",
              "      <td>46.0</td>\n",
              "      <td>43.0</td>\n",
              "      <td>37.0</td>\n",
              "    </tr>\n",
              "    <tr>\n",
              "      <th>2012.0</th>\n",
              "      <td>264.0</td>\n",
              "      <td>54.0</td>\n",
              "      <td>38.0</td>\n",
              "      <td>57.0</td>\n",
              "      <td>78.0</td>\n",
              "      <td>48.0</td>\n",
              "      <td>18.0</td>\n",
              "      <td>30.0</td>\n",
              "      <td>29.0</td>\n",
              "      <td>15.0</td>\n",
              "      <td>11.0</td>\n",
              "      <td>12.0</td>\n",
              "    </tr>\n",
              "    <tr>\n",
              "      <th>2013.0</th>\n",
              "      <td>148.0</td>\n",
              "      <td>53.0</td>\n",
              "      <td>42.0</td>\n",
              "      <td>60.0</td>\n",
              "      <td>70.0</td>\n",
              "      <td>59.0</td>\n",
              "      <td>18.0</td>\n",
              "      <td>16.0</td>\n",
              "      <td>20.0</td>\n",
              "      <td>19.0</td>\n",
              "      <td>3.0</td>\n",
              "      <td>37.0</td>\n",
              "    </tr>\n",
              "    <tr>\n",
              "      <th>2014.0</th>\n",
              "      <td>186.0</td>\n",
              "      <td>55.0</td>\n",
              "      <td>41.0</td>\n",
              "      <td>75.0</td>\n",
              "      <td>91.0</td>\n",
              "      <td>47.0</td>\n",
              "      <td>11.0</td>\n",
              "      <td>27.0</td>\n",
              "      <td>23.0</td>\n",
              "      <td>8.0</td>\n",
              "      <td>8.0</td>\n",
              "      <td>10.0</td>\n",
              "    </tr>\n",
              "    <tr>\n",
              "      <th>2015.0</th>\n",
              "      <td>253.0</td>\n",
              "      <td>62.0</td>\n",
              "      <td>39.0</td>\n",
              "      <td>53.0</td>\n",
              "      <td>78.0</td>\n",
              "      <td>34.0</td>\n",
              "      <td>15.0</td>\n",
              "      <td>19.0</td>\n",
              "      <td>21.0</td>\n",
              "      <td>17.0</td>\n",
              "      <td>6.0</td>\n",
              "      <td>14.0</td>\n",
              "    </tr>\n",
              "    <tr>\n",
              "      <th>2016.0</th>\n",
              "      <td>119.0</td>\n",
              "      <td>38.0</td>\n",
              "      <td>18.0</td>\n",
              "      <td>34.0</td>\n",
              "      <td>40.0</td>\n",
              "      <td>32.0</td>\n",
              "      <td>9.0</td>\n",
              "      <td>20.0</td>\n",
              "      <td>14.0</td>\n",
              "      <td>10.0</td>\n",
              "      <td>0.0</td>\n",
              "      <td>10.0</td>\n",
              "    </tr>\n",
              "  </tbody>\n",
              "</table>\n",
              "</div>\n",
              "      <button class=\"colab-df-convert\" onclick=\"convertToInteractive('df-bd6fa85b-2819-49e5-b3b5-64c580ebe704')\"\n",
              "              title=\"Convert this dataframe to an interactive table.\"\n",
              "              style=\"display:none;\">\n",
              "        \n",
              "  <svg xmlns=\"http://www.w3.org/2000/svg\" height=\"24px\"viewBox=\"0 0 24 24\"\n",
              "       width=\"24px\">\n",
              "    <path d=\"M0 0h24v24H0V0z\" fill=\"none\"/>\n",
              "    <path d=\"M18.56 5.44l.94 2.06.94-2.06 2.06-.94-2.06-.94-.94-2.06-.94 2.06-2.06.94zm-11 1L8.5 8.5l.94-2.06 2.06-.94-2.06-.94L8.5 2.5l-.94 2.06-2.06.94zm10 10l.94 2.06.94-2.06 2.06-.94-2.06-.94-.94-2.06-.94 2.06-2.06.94z\"/><path d=\"M17.41 7.96l-1.37-1.37c-.4-.4-.92-.59-1.43-.59-.52 0-1.04.2-1.43.59L10.3 9.45l-7.72 7.72c-.78.78-.78 2.05 0 2.83L4 21.41c.39.39.9.59 1.41.59.51 0 1.02-.2 1.41-.59l7.78-7.78 2.81-2.81c.8-.78.8-2.07 0-2.86zM5.41 20L4 18.59l7.72-7.72 1.47 1.35L5.41 20z\"/>\n",
              "  </svg>\n",
              "      </button>\n",
              "      \n",
              "  <style>\n",
              "    .colab-df-container {\n",
              "      display:flex;\n",
              "      flex-wrap:wrap;\n",
              "      gap: 12px;\n",
              "    }\n",
              "\n",
              "    .colab-df-convert {\n",
              "      background-color: #E8F0FE;\n",
              "      border: none;\n",
              "      border-radius: 50%;\n",
              "      cursor: pointer;\n",
              "      display: none;\n",
              "      fill: #1967D2;\n",
              "      height: 32px;\n",
              "      padding: 0 0 0 0;\n",
              "      width: 32px;\n",
              "    }\n",
              "\n",
              "    .colab-df-convert:hover {\n",
              "      background-color: #E2EBFA;\n",
              "      box-shadow: 0px 1px 2px rgba(60, 64, 67, 0.3), 0px 1px 3px 1px rgba(60, 64, 67, 0.15);\n",
              "      fill: #174EA6;\n",
              "    }\n",
              "\n",
              "    [theme=dark] .colab-df-convert {\n",
              "      background-color: #3B4455;\n",
              "      fill: #D2E3FC;\n",
              "    }\n",
              "\n",
              "    [theme=dark] .colab-df-convert:hover {\n",
              "      background-color: #434B5C;\n",
              "      box-shadow: 0px 1px 3px 1px rgba(0, 0, 0, 0.15);\n",
              "      filter: drop-shadow(0px 1px 2px rgba(0, 0, 0, 0.3));\n",
              "      fill: #FFFFFF;\n",
              "    }\n",
              "  </style>\n",
              "\n",
              "      <script>\n",
              "        const buttonEl =\n",
              "          document.querySelector('#df-bd6fa85b-2819-49e5-b3b5-64c580ebe704 button.colab-df-convert');\n",
              "        buttonEl.style.display =\n",
              "          google.colab.kernel.accessAllowed ? 'block' : 'none';\n",
              "\n",
              "        async function convertToInteractive(key) {\n",
              "          const element = document.querySelector('#df-bd6fa85b-2819-49e5-b3b5-64c580ebe704');\n",
              "          const dataTable =\n",
              "            await google.colab.kernel.invokeFunction('convertToInteractive',\n",
              "                                                     [key], {});\n",
              "          if (!dataTable) return;\n",
              "\n",
              "          const docLinkHtml = 'Like what you see? Visit the ' +\n",
              "            '<a target=\"_blank\" href=https://colab.research.google.com/notebooks/data_table.ipynb>data table notebook</a>'\n",
              "            + ' to learn more about interactive tables.';\n",
              "          element.innerHTML = '';\n",
              "          dataTable['output_type'] = 'display_data';\n",
              "          await google.colab.output.renderOutput(dataTable, element);\n",
              "          const docLink = document.createElement('div');\n",
              "          docLink.innerHTML = docLinkHtml;\n",
              "          element.appendChild(docLink);\n",
              "        }\n",
              "      </script>\n",
              "    </div>\n",
              "  </div>\n",
              "  "
            ]
          },
          "metadata": {},
          "execution_count": 20
        }
      ]
    },
    {
      "cell_type": "markdown",
      "source": [
        "## 연도별 장르 시각화"
      ],
      "metadata": {
        "id": "daLaWjw6jAEE"
      }
    },
    {
      "cell_type": "code",
      "source": [
        "ax1_col = Year_Gen.columns[:6]\n",
        "ax2_col = Year_Gen.columns[6:]"
      ],
      "metadata": {
        "id": "GODPpoj2YAZQ"
      },
      "execution_count": null,
      "outputs": []
    },
    {
      "cell_type": "code",
      "source": [
        "f = plt.figure(figsize=(15,15))\n",
        "ax1= f.add_subplot(211)\n",
        "ax2 = f.add_subplot(212)\n",
        "ax1.plot(Year_Gen.iloc[:,:6])\n",
        "ax2.plot(Year_Gen.iloc[:,6:])\n",
        "ax1.set_title('상위 TOP6', fontsize=20)\n",
        "ax2.set_title('하위 TOP6', fontsize=20)\n",
        "ax1.legend(ax1_col)\n",
        "ax2.legend(ax2_col)\n",
        "#ax2.ylim(0,110)\n",
        "plt.show()"
      ],
      "metadata": {
        "id": "H1P1Pyh4XyP7",
        "colab": {
          "base_uri": "https://localhost:8080/",
          "height": 884
        },
        "outputId": "51c7429c-9825-4ff8-cb4f-125476e1ecf2"
      },
      "execution_count": null,
      "outputs": [
        {
          "output_type": "display_data",
          "data": {
            "text/plain": [
              "<Figure size 1080x1080 with 2 Axes>"
            ],
            "image/png": "[encoded data removed]"
          },
          "metadata": {
            "needs_background": "light"
          }
        }
      ]
    },
    {
      "cell_type": "markdown",
      "source": [
        "## $\\chi^2$ 테스트"
      ],
      "metadata": {
        "id": "j4ANcFw7l0vb"
      }
    },
    {
      "cell_type": "code",
      "source": [
        "print('p-value :',chi2_contingency(Year_Gen, correction = False)[1])\n",
        "print('\\n')\n",
        "print('p-value :',chi2_contingency(Year_Gen, correction = True)[1])"
      ],
      "metadata": {
        "id": "zf7uN7bQbWnD",
        "colab": {
          "base_uri": "https://localhost:8080/"
        },
        "outputId": "ca05e158-4017-4357-8b42-e38ef299ce87"
      },
      "execution_count": null,
      "outputs": [
        {
          "output_type": "stream",
          "name": "stdout",
          "text": [
            "p-value : 6.024932453033476e-121\n",
            "\n",
            "\n",
            "p-value : 6.024932453033476e-121\n"
          ]
        }
      ]
    },
    {
      "cell_type": "markdown",
      "source": [
        "# 출고량 높은 게임 분석"
      ],
      "metadata": {
        "id": "UGmJ50AkzqoZ"
      }
    },
    {
      "cell_type": "markdown",
      "source": [
        "### 출고량이 많은순으로 정렬"
      ],
      "metadata": {
        "id": "mvxedGddkmxC"
      }
    },
    {
      "cell_type": "code",
      "source": [
        "df['total'] = np.sum(df.loc[:,'NA_Sales':'Other_Sales'],axis = 1)\n",
        "df_high10 = df.sort_values('total', ascending=False).head(10)\n",
        "df_high20 = df.sort_values('total', ascending=False).head(20) #어떤 장르의 게임이 잘팔리는가 확인\n",
        "\n",
        "df_high20"
      ],
      "metadata": {
        "colab": {
          "base_uri": "https://localhost:8080/",
          "height": 676
        },
        "id": "KQNyC8Ccz79o",
        "outputId": "1cd14563-4724-41de-a068-31e538e49068"
      },
      "execution_count": null,
      "outputs": [
        {
          "output_type": "execute_result",
          "data": {
            "text/plain": [
              "                                               Name Platform    Year  \\\n",
              "2909                                     Wii Sports      Wii  2006.0   \n",
              "4200                              Super Mario Bros.      NES  1985.0   \n",
              "12580                                Mario Kart Wii      Wii  2008.0   \n",
              "3353                              Wii Sports Resort      Wii  2009.0   \n",
              "7830                       Pokemon Red/Pokemon Blue       GB  1996.0   \n",
              "1204                                         Tetris       GB  1989.0   \n",
              "6938                          New Super Mario Bros.       DS  2006.0   \n",
              "3015                                       Wii Play      Wii  2006.0   \n",
              "16532                     New Super Mario Bros. Wii      Wii  2009.0   \n",
              "10489                                     Duck Hunt      NES  1984.0   \n",
              "11138                                    Nintendogs       DS  2005.0   \n",
              "10651                                 Mario Kart DS       DS  2005.0   \n",
              "9417                    Pokemon Gold/Pokemon Silver       GB  1999.0   \n",
              "3436                                        Wii Fit      Wii  2007.0   \n",
              "10900                                  Wii Fit Plus      Wii  2009.0   \n",
              "4344                             Kinect Adventures!     X360  2010.0   \n",
              "3484                             Grand Theft Auto V      PS3  2013.0   \n",
              "14670                 Grand Theft Auto: San Andreas      PS2  2004.0   \n",
              "13112                             Super Mario World     SNES  1990.0   \n",
              "13230  Brain Age: Train Your Brain in Minutes a Day       DS  2005.0   \n",
              "\n",
              "              Genre               Publisher    NA_Sales    EU_Sales  \\\n",
              "2909         Sports                Nintendo  41490000.0  29020000.0   \n",
              "4200       Platform                Nintendo  29080000.0   3580000.0   \n",
              "12580        Racing                Nintendo  15850000.0  12880000.0   \n",
              "3353         Sports                Nintendo  15750000.0  11010000.0   \n",
              "7830   Role-Playing                Nintendo  11270000.0   8890000.0   \n",
              "1204         Puzzle                Nintendo  23200000.0   2260000.0   \n",
              "6938       Platform                Nintendo  11380000.0   9230000.0   \n",
              "3015           Misc                Nintendo  14030000.0   9200000.0   \n",
              "16532      Platform                Nintendo  14590000.0   7060000.0   \n",
              "10489       Shooter                Nintendo  26930000.0    630000.0   \n",
              "11138    Simulation                Nintendo   9070000.0  11000000.0   \n",
              "10651        Racing                Nintendo   9810000.0   7570000.0   \n",
              "9417   Role-Playing                Nintendo   9000000.0   6180000.0   \n",
              "3436         Sports                Nintendo   8940000.0   8030000.0   \n",
              "10900        Sports                Nintendo   9090000.0   8590000.0   \n",
              "4344           Misc  Microsoft Game Studios  14970000.0   4940000.0   \n",
              "3484         Action    Take-Two Interactive   7010000.0   9270000.0   \n",
              "14670        Action    Take-Two Interactive   9430000.0    400000.0   \n",
              "13112      Platform                Nintendo  12780000.0   3750000.0   \n",
              "13230          Misc                Nintendo   4750000.0   9260000.0   \n",
              "\n",
              "         JP_Sales  Other_Sales       total  \n",
              "2909    3770000.0    8460000.0  82740000.0  \n",
              "4200    6810000.0     770000.0  40240000.0  \n",
              "12580   3790000.0    3310000.0  35830000.0  \n",
              "3353    3280000.0    2960000.0  33000000.0  \n",
              "7830   10220000.0    1000000.0  31380000.0  \n",
              "1204    4220000.0     580000.0  30260000.0  \n",
              "6938    6500000.0    2900000.0  30010000.0  \n",
              "3015    2930000.0    2850000.0  29010000.0  \n",
              "16532   4700000.0    2260000.0  28610000.0  \n",
              "10489    280000.0     470000.0  28310000.0  \n",
              "11138   1930000.0    2750000.0  24750000.0  \n",
              "10651   4130000.0    1920000.0  23430000.0  \n",
              "9417    7200000.0     710000.0  23090000.0  \n",
              "3436    3600000.0    2150000.0  22720000.0  \n",
              "10900   2530000.0    1790000.0  22000000.0  \n",
              "4344     240000.0    1670000.0  21820000.0  \n",
              "3484     970000.0    4140000.0  21390000.0  \n",
              "14670    410000.0   10570000.0  20810000.0  \n",
              "13112   3540000.0     550000.0  20620000.0  \n",
              "13230   4160000.0    2050000.0  20220000.0  "
            ],
            "text/html": [
              "\n",
              "  <div id=\"df-fe2491ca-7afc-48dc-968a-f2d4e69396da\">\n",
              "    <div class=\"colab-df-container\">\n",
              "      <div>\n",
              "<style scoped>\n",
              "    .dataframe tbody tr th:only-of-type {\n",
              "        vertical-align: middle;\n",
              "    }\n",
              "\n",
              "    .dataframe tbody tr th {\n",
              "        vertical-align: top;\n",
              "    }\n",
              "\n",
              "    .dataframe thead th {\n",
              "        text-align: right;\n",
              "    }\n",
              "</style>\n",
              "<table border=\"1\" class=\"dataframe\">\n",
              "  <thead>\n",
              "    <tr style=\"text-align: right;\">\n",
              "      <th></th>\n",
              "      <th>Name</th>\n",
              "      <th>Platform</th>\n",
              "      <th>Year</th>\n",
              "      <th>Genre</th>\n",
              "      <th>Publisher</th>\n",
              "      <th>NA_Sales</th>\n",
              "      <th>EU_Sales</th>\n",
              "      <th>JP_Sales</th>\n",
              "      <th>Other_Sales</th>\n",
              "      <th>total</th>\n",
              "    </tr>\n",
              "  </thead>\n",
              "  <tbody>\n",
              "    <tr>\n",
              "      <th>2909</th>\n",
              "      <td>Wii Sports</td>\n",
              "      <td>Wii</td>\n",
              "      <td>2006.0</td>\n",
              "      <td>Sports</td>\n",
              "      <td>Nintendo</td>\n",
              "      <td>41490000.0</td>\n",
              "      <td>29020000.0</td>\n",
              "      <td>3770000.0</td>\n",
              "      <td>8460000.0</td>\n",
              "      <td>82740000.0</td>\n",
              "    </tr>\n",
              "    <tr>\n",
              "      <th>4200</th>\n",
              "      <td>Super Mario Bros.</td>\n",
              "      <td>NES</td>\n",
              "      <td>1985.0</td>\n",
              "      <td>Platform</td>\n",
              "      <td>Nintendo</td>\n",
              "      <td>29080000.0</td>\n",
              "      <td>3580000.0</td>\n",
              "      <td>6810000.0</td>\n",
              "      <td>770000.0</td>\n",
              "      <td>40240000.0</td>\n",
              "    </tr>\n",
              "    <tr>\n",
              "      <th>12580</th>\n",
              "      <td>Mario Kart Wii</td>\n",
              "      <td>Wii</td>\n",
              "      <td>2008.0</td>\n",
              "      <td>Racing</td>\n",
              "      <td>Nintendo</td>\n",
              "      <td>15850000.0</td>\n",
              "      <td>12880000.0</td>\n",
              "      <td>3790000.0</td>\n",
              "      <td>3310000.0</td>\n",
              "      <td>35830000.0</td>\n",
              "    </tr>\n",
              "    <tr>\n",
              "      <th>3353</th>\n",
              "      <td>Wii Sports Resort</td>\n",
              "      <td>Wii</td>\n",
              "      <td>2009.0</td>\n",
              "      <td>Sports</td>\n",
              "      <td>Nintendo</td>\n",
              "      <td>15750000.0</td>\n",
              "      <td>11010000.0</td>\n",
              "      <td>3280000.0</td>\n",
              "      <td>2960000.0</td>\n",
              "      <td>33000000.0</td>\n",
              "    </tr>\n",
              "    <tr>\n",
              "      <th>7830</th>\n",
              "      <td>Pokemon Red/Pokemon Blue</td>\n",
              "      <td>GB</td>\n",
              "      <td>1996.0</td>\n",
              "      <td>Role-Playing</td>\n",
              "      <td>Nintendo</td>\n",
              "      <td>11270000.0</td>\n",
              "      <td>8890000.0</td>\n",
              "      <td>10220000.0</td>\n",
              "      <td>1000000.0</td>\n",
              "      <td>31380000.0</td>\n",
              "    </tr>\n",
              "    <tr>\n",
              "      <th>1204</th>\n",
              "      <td>Tetris</td>\n",
              "      <td>GB</td>\n",
              "      <td>1989.0</td>\n",
              "      <td>Puzzle</td>\n",
              "      <td>Nintendo</td>\n",
              "      <td>23200000.0</td>\n",
              "      <td>2260000.0</td>\n",
              "      <td>4220000.0</td>\n",
              "      <td>580000.0</td>\n",
              "      <td>30260000.0</td>\n",
              "    </tr>\n",
              "    <tr>\n",
              "      <th>6938</th>\n",
              "      <td>New Super Mario Bros.</td>\n",
              "      <td>DS</td>\n",
              "      <td>2006.0</td>\n",
              "      <td>Platform</td>\n",
              "      <td>Nintendo</td>\n",
              "      <td>11380000.0</td>\n",
              "      <td>9230000.0</td>\n",
              "      <td>6500000.0</td>\n",
              "      <td>2900000.0</td>\n",
              "      <td>30010000.0</td>\n",
              "    </tr>\n",
              "    <tr>\n",
              "      <th>3015</th>\n",
              "      <td>Wii Play</td>\n",
              "      <td>Wii</td>\n",
              "      <td>2006.0</td>\n",
              "      <td>Misc</td>\n",
              "      <td>Nintendo</td>\n",
              "      <td>14030000.0</td>\n",
              "      <td>9200000.0</td>\n",
              "      <td>2930000.0</td>\n",
              "      <td>2850000.0</td>\n",
              "      <td>29010000.0</td>\n",
              "    </tr>\n",
              "    <tr>\n",
              "      <th>16532</th>\n",
              "      <td>New Super Mario Bros. Wii</td>\n",
              "      <td>Wii</td>\n",
              "      <td>2009.0</td>\n",
              "      <td>Platform</td>\n",
              "      <td>Nintendo</td>\n",
              "      <td>14590000.0</td>\n",
              "      <td>7060000.0</td>\n",
              "      <td>4700000.0</td>\n",
              "      <td>2260000.0</td>\n",
              "      <td>28610000.0</td>\n",
              "    </tr>\n",
              "    <tr>\n",
              "      <th>10489</th>\n",
              "      <td>Duck Hunt</td>\n",
              "      <td>NES</td>\n",
              "      <td>1984.0</td>\n",
              "      <td>Shooter</td>\n",
              "      <td>Nintendo</td>\n",
              "      <td>26930000.0</td>\n",
              "      <td>630000.0</td>\n",
              "      <td>280000.0</td>\n",
              "      <td>470000.0</td>\n",
              "      <td>28310000.0</td>\n",
              "    </tr>\n",
              "    <tr>\n",
              "      <th>11138</th>\n",
              "      <td>Nintendogs</td>\n",
              "      <td>DS</td>\n",
              "      <td>2005.0</td>\n",
              "      <td>Simulation</td>\n",
              "      <td>Nintendo</td>\n",
              "      <td>9070000.0</td>\n",
              "      <td>11000000.0</td>\n",
              "      <td>1930000.0</td>\n",
              "      <td>2750000.0</td>\n",
              "      <td>24750000.0</td>\n",
              "    </tr>\n",
              "    <tr>\n",
              "      <th>10651</th>\n",
              "      <td>Mario Kart DS</td>\n",
              "      <td>DS</td>\n",
              "      <td>2005.0</td>\n",
              "      <td>Racing</td>\n",
              "      <td>Nintendo</td>\n",
              "      <td>9810000.0</td>\n",
              "      <td>7570000.0</td>\n",
              "      <td>4130000.0</td>\n",
              "      <td>1920000.0</td>\n",
              "      <td>23430000.0</td>\n",
              "    </tr>\n",
              "    <tr>\n",
              "      <th>9417</th>\n",
              "      <td>Pokemon Gold/Pokemon Silver</td>\n",
              "      <td>GB</td>\n",
              "      <td>1999.0</td>\n",
              "      <td>Role-Playing</td>\n",
              "      <td>Nintendo</td>\n",
              "      <td>9000000.0</td>\n",
              "      <td>6180000.0</td>\n",
              "      <td>7200000.0</td>\n",
              "      <td>710000.0</td>\n",
              "      <td>23090000.0</td>\n",
              "    </tr>\n",
              "    <tr>\n",
              "      <th>3436</th>\n",
              "      <td>Wii Fit</td>\n",
              "      <td>Wii</td>\n",
              "      <td>2007.0</td>\n",
              "      <td>Sports</td>\n",
              "      <td>Nintendo</td>\n",
              "      <td>8940000.0</td>\n",
              "      <td>8030000.0</td>\n",
              "      <td>3600000.0</td>\n",
              "      <td>2150000.0</td>\n",
              "      <td>22720000.0</td>\n",
              "    </tr>\n",
              "    <tr>\n",
              "      <th>10900</th>\n",
              "      <td>Wii Fit Plus</td>\n",
              "      <td>Wii</td>\n",
              "      <td>2009.0</td>\n",
              "      <td>Sports</td>\n",
              "      <td>Nintendo</td>\n",
              "      <td>9090000.0</td>\n",
              "      <td>8590000.0</td>\n",
              "      <td>2530000.0</td>\n",
              "      <td>1790000.0</td>\n",
              "      <td>22000000.0</td>\n",
              "    </tr>\n",
              "    <tr>\n",
              "      <th>4344</th>\n",
              "      <td>Kinect Adventures!</td>\n",
              "      <td>X360</td>\n",
              "      <td>2010.0</td>\n",
              "      <td>Misc</td>\n",
              "      <td>Microsoft Game Studios</td>\n",
              "      <td>14970000.0</td>\n",
              "      <td>4940000.0</td>\n",
              "      <td>240000.0</td>\n",
              "      <td>1670000.0</td>\n",
              "      <td>21820000.0</td>\n",
              "    </tr>\n",
              "    <tr>\n",
              "      <th>3484</th>\n",
              "      <td>Grand Theft Auto V</td>\n",
              "      <td>PS3</td>\n",
              "      <td>2013.0</td>\n",
              "      <td>Action</td>\n",
              "      <td>Take-Two Interactive</td>\n",
              "      <td>7010000.0</td>\n",
              "      <td>9270000.0</td>\n",
              "      <td>970000.0</td>\n",
              "      <td>4140000.0</td>\n",
              "      <td>21390000.0</td>\n",
              "    </tr>\n",
              "    <tr>\n",
              "      <th>14670</th>\n",
              "      <td>Grand Theft Auto: San Andreas</td>\n",
              "      <td>PS2</td>\n",
              "      <td>2004.0</td>\n",
              "      <td>Action</td>\n",
              "      <td>Take-Two Interactive</td>\n",
              "      <td>9430000.0</td>\n",
              "      <td>400000.0</td>\n",
              "      <td>410000.0</td>\n",
              "      <td>10570000.0</td>\n",
              "      <td>20810000.0</td>\n",
              "    </tr>\n",
              "    <tr>\n",
              "      <th>13112</th>\n",
              "      <td>Super Mario World</td>\n",
              "      <td>SNES</td>\n",
              "      <td>1990.0</td>\n",
              "      <td>Platform</td>\n",
              "      <td>Nintendo</td>\n",
              "      <td>12780000.0</td>\n",
              "      <td>3750000.0</td>\n",
              "      <td>3540000.0</td>\n",
              "      <td>550000.0</td>\n",
              "      <td>20620000.0</td>\n",
              "    </tr>\n",
              "    <tr>\n",
              "      <th>13230</th>\n",
              "      <td>Brain Age: Train Your Brain in Minutes a Day</td>\n",
              "      <td>DS</td>\n",
              "      <td>2005.0</td>\n",
              "      <td>Misc</td>\n",
              "      <td>Nintendo</td>\n",
              "      <td>4750000.0</td>\n",
              "      <td>9260000.0</td>\n",
              "      <td>4160000.0</td>\n",
              "      <td>2050000.0</td>\n",
              "      <td>20220000.0</td>\n",
              "    </tr>\n",
              "  </tbody>\n",
              "</table>\n",
              "</div>\n",
              "      <button class=\"colab-df-convert\" onclick=\"convertToInteractive('df-fe2491ca-7afc-48dc-968a-f2d4e69396da')\"\n",
              "              title=\"Convert this dataframe to an interactive table.\"\n",
              "              style=\"display:none;\">\n",
              "        \n",
              "  <svg xmlns=\"http://www.w3.org/2000/svg\" height=\"24px\"viewBox=\"0 0 24 24\"\n",
              "       width=\"24px\">\n",
              "    <path d=\"M0 0h24v24H0V0z\" fill=\"none\"/>\n",
              "    <path d=\"M18.56 5.44l.94 2.06.94-2.06 2.06-.94-2.06-.94-.94-2.06-.94 2.06-2.06.94zm-11 1L8.5 8.5l.94-2.06 2.06-.94-2.06-.94L8.5 2.5l-.94 2.06-2.06.94zm10 10l.94 2.06.94-2.06 2.06-.94-2.06-.94-.94-2.06-.94 2.06-2.06.94z\"/><path d=\"M17.41 7.96l-1.37-1.37c-.4-.4-.92-.59-1.43-.59-.52 0-1.04.2-1.43.59L10.3 9.45l-7.72 7.72c-.78.78-.78 2.05 0 2.83L4 21.41c.39.39.9.59 1.41.59.51 0 1.02-.2 1.41-.59l7.78-7.78 2.81-2.81c.8-.78.8-2.07 0-2.86zM5.41 20L4 18.59l7.72-7.72 1.47 1.35L5.41 20z\"/>\n",
              "  </svg>\n",
              "      </button>\n",
              "      \n",
              "  <style>\n",
              "    .colab-df-container {\n",
              "      display:flex;\n",
              "      flex-wrap:wrap;\n",
              "      gap: 12px;\n",
              "    }\n",
              "\n",
              "    .colab-df-convert {\n",
              "      background-color: #E8F0FE;\n",
              "      border: none;\n",
              "      border-radius: 50%;\n",
              "      cursor: pointer;\n",
              "      display: none;\n",
              "      fill: #1967D2;\n",
              "      height: 32px;\n",
              "      padding: 0 0 0 0;\n",
              "      width: 32px;\n",
              "    }\n",
              "\n",
              "    .colab-df-convert:hover {\n",
              "      background-color: #E2EBFA;\n",
              "      box-shadow: 0px 1px 2px rgba(60, 64, 67, 0.3), 0px 1px 3px 1px rgba(60, 64, 67, 0.15);\n",
              "      fill: #174EA6;\n",
              "    }\n",
              "\n",
              "    [theme=dark] .colab-df-convert {\n",
              "      background-color: #3B4455;\n",
              "      fill: #D2E3FC;\n",
              "    }\n",
              "\n",
              "    [theme=dark] .colab-df-convert:hover {\n",
              "      background-color: #434B5C;\n",
              "      box-shadow: 0px 1px 3px 1px rgba(0, 0, 0, 0.15);\n",
              "      filter: drop-shadow(0px 1px 2px rgba(0, 0, 0, 0.3));\n",
              "      fill: #FFFFFF;\n",
              "    }\n",
              "  </style>\n",
              "\n",
              "      <script>\n",
              "        const buttonEl =\n",
              "          document.querySelector('#df-fe2491ca-7afc-48dc-968a-f2d4e69396da button.colab-df-convert');\n",
              "        buttonEl.style.display =\n",
              "          google.colab.kernel.accessAllowed ? 'block' : 'none';\n",
              "\n",
              "        async function convertToInteractive(key) {\n",
              "          const element = document.querySelector('#df-fe2491ca-7afc-48dc-968a-f2d4e69396da');\n",
              "          const dataTable =\n",
              "            await google.colab.kernel.invokeFunction('convertToInteractive',\n",
              "                                                     [key], {});\n",
              "          if (!dataTable) return;\n",
              "\n",
              "          const docLinkHtml = 'Like what you see? Visit the ' +\n",
              "            '<a target=\"_blank\" href=https://colab.research.google.com/notebooks/data_table.ipynb>data table notebook</a>'\n",
              "            + ' to learn more about interactive tables.';\n",
              "          element.innerHTML = '';\n",
              "          dataTable['output_type'] = 'display_data';\n",
              "          await google.colab.output.renderOutput(dataTable, element);\n",
              "          const docLink = document.createElement('div');\n",
              "          docLink.innerHTML = docLinkHtml;\n",
              "          element.appendChild(docLink);\n",
              "        }\n",
              "      </script>\n",
              "    </div>\n",
              "  </div>\n",
              "  "
            ]
          },
          "metadata": {},
          "execution_count": 165
        }
      ]
    },
    {
      "cell_type": "markdown",
      "source": [
        "### 출고량 높은게임에 대한 시각화(산점도)"
      ],
      "metadata": {
        "id": "XWOi118o64nP"
      }
    },
    {
      "cell_type": "code",
      "source": [
        "high_label = df_high20['Genre']\n",
        "\n",
        "#high_label = high_label.drop_duplicates()"
      ],
      "metadata": {
        "id": "F00JhWIz9Dek"
      },
      "execution_count": null,
      "outputs": []
    },
    {
      "cell_type": "code",
      "source": [
        "plt.figure(figsize=(10,7))\n",
        "\n",
        "sns.scatterplot(df_high20['Year'],df_high20['total'], hue = high_label, s=100)\n",
        "plt.title('출고량 높은 게임 장르', fontsize=20)\n",
        "plt.show()"
      ],
      "metadata": {
        "colab": {
          "base_uri": "https://localhost:8080/",
          "height": 518
        },
        "id": "emgLnO1qz77g",
        "outputId": "11672541-e089-4acf-e7c2-f0a3710d40a1"
      },
      "execution_count": null,
      "outputs": [
        {
          "output_type": "stream",
          "name": "stderr",
          "text": [
            "/usr/local/lib/python3.7/dist-packages/seaborn/_decorators.py:43: FutureWarning: Pass the following variables as keyword args: x, y. From version 0.12, the only valid positional argument will be `data`, and passing other arguments without an explicit keyword will result in an error or misinterpretation.\n",
            "  FutureWarning\n"
          ]
        },
        {
          "output_type": "display_data",
          "data": {
            "text/plain": [
              "<Figure size 720x504 with 1 Axes>"
            ],
            "image/png": "[encoded data removed]"
          },
          "metadata": {
            "needs_background": "light"
          }
        }
      ]
    },
    {
      "cell_type": "markdown",
      "source": [
        "### 출고량 높은게임에 대한 시각화(그래프)"
      ],
      "metadata": {
        "id": "4b7lKuTQBsBM"
      }
    },
    {
      "cell_type": "code",
      "source": [
        "plt.figure(figsize=(15,7))\n",
        "plt.bar(df_high20['Genre'],df_high20['total'])\n",
        "plt.title('출고량 높은 게임 장르', fontsize=20)\n",
        "plt.show()"
      ],
      "metadata": {
        "colab": {
          "base_uri": "https://localhost:8080/",
          "height": 449
        },
        "id": "JTyXAr3Uz744",
        "outputId": "d2a3d00e-5c3c-40a8-967e-c63afbad59c2"
      },
      "execution_count": null,
      "outputs": [
        {
          "output_type": "display_data",
          "data": {
            "text/plain": [
              "<Figure size 1080x504 with 1 Axes>"
            ],
            "image/png": "[encoded data removed]"
          },
          "metadata": {
            "needs_background": "light"
          }
        }
      ]
    },
    {
      "cell_type": "markdown",
      "source": [
        "### PCA (테스트용)"
      ],
      "metadata": {
        "id": "VT-7uNm3UcKp"
      }
    },
    {
      "cell_type": "code",
      "source": [
        "df_Genre = df['Genre']\n",
        "df_trend = df.loc[:,'NA_Sales':'Other_Sales']\n",
        "\n",
        "scaler = StandardScaler()\n",
        "\n",
        "scale_trend = pd.DataFrame(scaler.fit_transform(df_trend), columns= df_trend.columns)\n",
        "\n",
        "pc = PCA()\n",
        "\n",
        "PCA_data = pd.DataFrame(pc.fit_transform(scale_trend), columns= ['PC1','PC2','PC3','PC4'])\n",
        "\n",
        "ratio = pc.explained_variance_ratio_"
      ],
      "metadata": {
        "colab": {
          "base_uri": "https://localhost:8080/",
          "height": 246
        },
        "id": "u7HyA1vex0L7",
        "outputId": "ffc0ad73-1b1b-4695-f430-770884b058ae"
      },
      "execution_count": null,
      "outputs": [
        {
          "output_type": "error",
          "ename": "NameError",
          "evalue": "ignored",
          "traceback": [
            "\u001b[0;31m---------------------------------------------------------------------------\u001b[0m",
            "\u001b[0;31mNameError\u001b[0m                                 Traceback (most recent call last)",
            "\u001b[0;32m<ipython-input-1-d529f9d2a96a>\u001b[0m in \u001b[0;36m<module>\u001b[0;34m()\u001b[0m\n\u001b[0;32m----> 1\u001b[0;31m \u001b[0mdf_Genre\u001b[0m \u001b[0;34m=\u001b[0m \u001b[0mdf\u001b[0m\u001b[0;34m[\u001b[0m\u001b[0;34m'Genre'\u001b[0m\u001b[0;34m]\u001b[0m\u001b[0;34m\u001b[0m\u001b[0;34m\u001b[0m\u001b[0m\n\u001b[0m\u001b[1;32m      2\u001b[0m \u001b[0mdf_trend\u001b[0m \u001b[0;34m=\u001b[0m \u001b[0mdf\u001b[0m\u001b[0;34m.\u001b[0m\u001b[0mloc\u001b[0m\u001b[0;34m[\u001b[0m\u001b[0;34m:\u001b[0m\u001b[0;34m,\u001b[0m\u001b[0;34m'NA_Sales'\u001b[0m\u001b[0;34m:\u001b[0m\u001b[0;34m'Other_Sales'\u001b[0m\u001b[0;34m]\u001b[0m\u001b[0;34m\u001b[0m\u001b[0;34m\u001b[0m\u001b[0m\n\u001b[1;32m      3\u001b[0m \u001b[0;34m\u001b[0m\u001b[0m\n\u001b[1;32m      4\u001b[0m \u001b[0mscaler\u001b[0m \u001b[0;34m=\u001b[0m \u001b[0mStandardScaler\u001b[0m\u001b[0;34m(\u001b[0m\u001b[0;34m)\u001b[0m\u001b[0;34m\u001b[0m\u001b[0;34m\u001b[0m\u001b[0m\n\u001b[1;32m      5\u001b[0m \u001b[0;34m\u001b[0m\u001b[0m\n",
            "\u001b[0;31mNameError\u001b[0m: name 'df' is not defined"
          ]
        }
      ]
    },
    {
      "cell_type": "code",
      "source": [
        "ratio = np.cumsum(ratio)\n",
        "ratio"
      ],
      "metadata": {
        "id": "6cL6v5q3LYUQ"
      },
      "execution_count": null,
      "outputs": []
    },
    {
      "cell_type": "code",
      "source": [
        "PCA_data[(PCA_data['PC1'] > 20) | (PCA_data['PC2'] > 20)]"
      ],
      "metadata": {
        "id": "8xBHgEgmSLV5"
      },
      "execution_count": null,
      "outputs": []
    },
    {
      "cell_type": "code",
      "source": [
        "plt.figure(figsize = (12,8))\n",
        "\n",
        "sns.scatterplot(PCA_data[\"PC1\"],PCA_data[\"PC2\"], hue=df_Genre)"
      ],
      "metadata": {
        "id": "I5bvNqhXM_yc"
      },
      "execution_count": null,
      "outputs": []
    },
    {
      "cell_type": "markdown",
      "source": [
        "# 개발 방향 분석\n",
        "\n"
      ],
      "metadata": {
        "id": "4-zbyjFyUsYU"
      }
    },
    {
      "cell_type": "code",
      "source": [
        "df_New = df[df['Year'] > 2005]"
      ],
      "metadata": {
        "id": "1XfMdmVTdg2q"
      },
      "execution_count": null,
      "outputs": []
    },
    {
      "cell_type": "code",
      "source": [
        "df_Total = df_New.loc[:,'Genre':'Other_Sales']\n",
        "df_Total = df_Total.groupby('Genre').mean()\n",
        "df_Total['Total_Sales'] = np.mean(df_Total, axis = 1)"
      ],
      "metadata": {
        "id": "i1ccZPC0vyC1"
      },
      "execution_count": null,
      "outputs": []
    },
    {
      "cell_type": "code",
      "source": [
        "df_Gener_Count = df_New['Genre'].value_counts()\n",
        "df_Gener_Count = pd.DataFrame(df_Gener_Count)"
      ],
      "metadata": {
        "id": "DaUpCO76W45S"
      },
      "execution_count": null,
      "outputs": []
    },
    {
      "cell_type": "code",
      "source": [
        "df_Trend =pd.concat([df_Gener_Count,df_Total['Total_Sales']],axis=1)"
      ],
      "metadata": {
        "id": "wYzrq7HGYefc"
      },
      "execution_count": null,
      "outputs": []
    },
    {
      "cell_type": "code",
      "source": [
        "df_Trend['Trend'] = df_Trend['Total_Sales'] / df_Trend['Genre']\n",
        "df_Trend=df_Trend.sort_values(by = 'Trend',ascending=False)\n",
        "df_Trend"
      ],
      "metadata": {
        "colab": {
          "base_uri": "https://localhost:8080/",
          "height": 425
        },
        "id": "LtuBu-6aZrO-",
        "outputId": "9e5157d9-da74-40e3-9a76-8f6e17aa4919"
      },
      "execution_count": null,
      "outputs": [
        {
          "output_type": "execute_result",
          "data": {
            "text/plain": [
              "              Genre    Total_Sales       Trend\n",
              "Platform        337  209629.080119  622.044748\n",
              "Shooter         722  242804.709141  336.294611\n",
              "Fighting        411  115133.819951  280.130949\n",
              "Racing          558  135071.684588  242.063951\n",
              "Puzzle          366   62547.814208  170.895667\n",
              "Simulation      598   92725.752508  155.059787\n",
              "Role-Playing    983  125788.402848  127.963787\n",
              "Sports         1258  157486.089030  125.187670\n",
              "Strategy        391   47078.005115  120.404105\n",
              "Misc           1238  111447.899838   90.022536\n",
              "Action         2320  120247.844828   51.830968\n",
              "Adventure      1001   35556.943057   35.521422"
            ],
            "text/html": [
              "\n",
              "  <div id=\"df-2e7d5ca0-9ea8-4aff-8acf-9d9ebd3337b4\">\n",
              "    <div class=\"colab-df-container\">\n",
              "      <div>\n",
              "<style scoped>\n",
              "    .dataframe tbody tr th:only-of-type {\n",
              "        vertical-align: middle;\n",
              "    }\n",
              "\n",
              "    .dataframe tbody tr th {\n",
              "        vertical-align: top;\n",
              "    }\n",
              "\n",
              "    .dataframe thead th {\n",
              "        text-align: right;\n",
              "    }\n",
              "</style>\n",
              "<table border=\"1\" class=\"dataframe\">\n",
              "  <thead>\n",
              "    <tr style=\"text-align: right;\">\n",
              "      <th></th>\n",
              "      <th>Genre</th>\n",
              "      <th>Total_Sales</th>\n",
              "      <th>Trend</th>\n",
              "    </tr>\n",
              "  </thead>\n",
              "  <tbody>\n",
              "    <tr>\n",
              "      <th>Platform</th>\n",
              "      <td>337</td>\n",
              "      <td>209629.080119</td>\n",
              "      <td>622.044748</td>\n",
              "    </tr>\n",
              "    <tr>\n",
              "      <th>Shooter</th>\n",
              "      <td>722</td>\n",
              "      <td>242804.709141</td>\n",
              "      <td>336.294611</td>\n",
              "    </tr>\n",
              "    <tr>\n",
              "      <th>Fighting</th>\n",
              "      <td>411</td>\n",
              "      <td>115133.819951</td>\n",
              "      <td>280.130949</td>\n",
              "    </tr>\n",
              "    <tr>\n",
              "      <th>Racing</th>\n",
              "      <td>558</td>\n",
              "      <td>135071.684588</td>\n",
              "      <td>242.063951</td>\n",
              "    </tr>\n",
              "    <tr>\n",
              "      <th>Puzzle</th>\n",
              "      <td>366</td>\n",
              "      <td>62547.814208</td>\n",
              "      <td>170.895667</td>\n",
              "    </tr>\n",
              "    <tr>\n",
              "      <th>Simulation</th>\n",
              "      <td>598</td>\n",
              "      <td>92725.752508</td>\n",
              "      <td>155.059787</td>\n",
              "    </tr>\n",
              "    <tr>\n",
              "      <th>Role-Playing</th>\n",
              "      <td>983</td>\n",
              "      <td>125788.402848</td>\n",
              "      <td>127.963787</td>\n",
              "    </tr>\n",
              "    <tr>\n",
              "      <th>Sports</th>\n",
              "      <td>1258</td>\n",
              "      <td>157486.089030</td>\n",
              "      <td>125.187670</td>\n",
              "    </tr>\n",
              "    <tr>\n",
              "      <th>Strategy</th>\n",
              "      <td>391</td>\n",
              "      <td>47078.005115</td>\n",
              "      <td>120.404105</td>\n",
              "    </tr>\n",
              "    <tr>\n",
              "      <th>Misc</th>\n",
              "      <td>1238</td>\n",
              "      <td>111447.899838</td>\n",
              "      <td>90.022536</td>\n",
              "    </tr>\n",
              "    <tr>\n",
              "      <th>Action</th>\n",
              "      <td>2320</td>\n",
              "      <td>120247.844828</td>\n",
              "      <td>51.830968</td>\n",
              "    </tr>\n",
              "    <tr>\n",
              "      <th>Adventure</th>\n",
              "      <td>1001</td>\n",
              "      <td>35556.943057</td>\n",
              "      <td>35.521422</td>\n",
              "    </tr>\n",
              "  </tbody>\n",
              "</table>\n",
              "</div>\n",
              "      <button class=\"colab-df-convert\" onclick=\"convertToInteractive('df-2e7d5ca0-9ea8-4aff-8acf-9d9ebd3337b4')\"\n",
              "              title=\"Convert this dataframe to an interactive table.\"\n",
              "              style=\"display:none;\">\n",
              "        \n",
              "  <svg xmlns=\"http://www.w3.org/2000/svg\" height=\"24px\"viewBox=\"0 0 24 24\"\n",
              "       width=\"24px\">\n",
              "    <path d=\"M0 0h24v24H0V0z\" fill=\"none\"/>\n",
              "    <path d=\"M18.56 5.44l.94 2.06.94-2.06 2.06-.94-2.06-.94-.94-2.06-.94 2.06-2.06.94zm-11 1L8.5 8.5l.94-2.06 2.06-.94-2.06-.94L8.5 2.5l-.94 2.06-2.06.94zm10 10l.94 2.06.94-2.06 2.06-.94-2.06-.94-.94-2.06-.94 2.06-2.06.94z\"/><path d=\"M17.41 7.96l-1.37-1.37c-.4-.4-.92-.59-1.43-.59-.52 0-1.04.2-1.43.59L10.3 9.45l-7.72 7.72c-.78.78-.78 2.05 0 2.83L4 21.41c.39.39.9.59 1.41.59.51 0 1.02-.2 1.41-.59l7.78-7.78 2.81-2.81c.8-.78.8-2.07 0-2.86zM5.41 20L4 18.59l7.72-7.72 1.47 1.35L5.41 20z\"/>\n",
              "  </svg>\n",
              "      </button>\n",
              "      \n",
              "  <style>\n",
              "    .colab-df-container {\n",
              "      display:flex;\n",
              "      flex-wrap:wrap;\n",
              "      gap: 12px;\n",
              "    }\n",
              "\n",
              "    .colab-df-convert {\n",
              "      background-color: #E8F0FE;\n",
              "      border: none;\n",
              "      border-radius: 50%;\n",
              "      cursor: pointer;\n",
              "      display: none;\n",
              "      fill: #1967D2;\n",
              "      height: 32px;\n",
              "      padding: 0 0 0 0;\n",
              "      width: 32px;\n",
              "    }\n",
              "\n",
              "    .colab-df-convert:hover {\n",
              "      background-color: #E2EBFA;\n",
              "      box-shadow: 0px 1px 2px rgba(60, 64, 67, 0.3), 0px 1px 3px 1px rgba(60, 64, 67, 0.15);\n",
              "      fill: #174EA6;\n",
              "    }\n",
              "\n",
              "    [theme=dark] .colab-df-convert {\n",
              "      background-color: #3B4455;\n",
              "      fill: #D2E3FC;\n",
              "    }\n",
              "\n",
              "    [theme=dark] .colab-df-convert:hover {\n",
              "      background-color: #434B5C;\n",
              "      box-shadow: 0px 1px 3px 1px rgba(0, 0, 0, 0.15);\n",
              "      filter: drop-shadow(0px 1px 2px rgba(0, 0, 0, 0.3));\n",
              "      fill: #FFFFFF;\n",
              "    }\n",
              "  </style>\n",
              "\n",
              "      <script>\n",
              "        const buttonEl =\n",
              "          document.querySelector('#df-2e7d5ca0-9ea8-4aff-8acf-9d9ebd3337b4 button.colab-df-convert');\n",
              "        buttonEl.style.display =\n",
              "          google.colab.kernel.accessAllowed ? 'block' : 'none';\n",
              "\n",
              "        async function convertToInteractive(key) {\n",
              "          const element = document.querySelector('#df-2e7d5ca0-9ea8-4aff-8acf-9d9ebd3337b4');\n",
              "          const dataTable =\n",
              "            await google.colab.kernel.invokeFunction('convertToInteractive',\n",
              "                                                     [key], {});\n",
              "          if (!dataTable) return;\n",
              "\n",
              "          const docLinkHtml = 'Like what you see? Visit the ' +\n",
              "            '<a target=\"_blank\" href=https://colab.research.google.com/notebooks/data_table.ipynb>data table notebook</a>'\n",
              "            + ' to learn more about interactive tables.';\n",
              "          element.innerHTML = '';\n",
              "          dataTable['output_type'] = 'display_data';\n",
              "          await google.colab.output.renderOutput(dataTable, element);\n",
              "          const docLink = document.createElement('div');\n",
              "          docLink.innerHTML = docLinkHtml;\n",
              "          element.appendChild(docLink);\n",
              "        }\n",
              "      </script>\n",
              "    </div>\n",
              "  </div>\n",
              "  "
            ]
          },
          "metadata": {},
          "execution_count": 155
        }
      ]
    },
    {
      "cell_type": "markdown",
      "source": [
        "### 트렌드 시각화(Bar 비교)"
      ],
      "metadata": {
        "id": "GaGV4OQJhS_K"
      }
    },
    {
      "cell_type": "code",
      "source": [
        "plt.figure(figsize = (20,10))\n",
        "sns.color_palette()\n",
        "sns.barplot(df_Trend['Genre'],df_Trend['Total_Sales'], hue = df_Trend.index)\n",
        "plt.xlabel('출시 게임 수', fontsize =15)\n",
        "plt.ylabel('출고량', fontsize =15)\n",
        "plt.show()"
      ],
      "metadata": {
        "colab": {
          "base_uri": "https://localhost:8080/",
          "height": 666
        },
        "id": "15Aj0amMZrRI",
        "outputId": "bd0352e3-ea20-4f40-e8cd-f192043d1cb0"
      },
      "execution_count": null,
      "outputs": [
        {
          "output_type": "stream",
          "name": "stderr",
          "text": [
            "/usr/local/lib/python3.7/dist-packages/seaborn/_decorators.py:43: FutureWarning: Pass the following variables as keyword args: x, y. From version 0.12, the only valid positional argument will be `data`, and passing other arguments without an explicit keyword will result in an error or misinterpretation.\n",
            "  FutureWarning\n"
          ]
        },
        {
          "output_type": "display_data",
          "data": {
            "text/plain": [
              "<Figure size 1440x720 with 1 Axes>"
            ],
            "image/png": "[encoded data removed]"
          },
          "metadata": {
            "needs_background": "light"
          }
        }
      ]
    },
    {
      "cell_type": "markdown",
      "source": [
        "### 트렌드 시각화(장르별 출고량)\n",
        "\n",
        "결론 : Platform, Shooter, Racing 이 세가지가 게임 개당 판매량이 높다는것을 알 수 있다"
      ],
      "metadata": {
        "id": "OSkp6PQOhbaX"
      }
    },
    {
      "cell_type": "code",
      "source": [
        "plt.figure(figsize = (10,10))\n",
        "labels = df_Trend.index\n",
        "plt.pie(df_Trend['Trend'],autopct='%.1f%%', labels= labels,  textprops={'fontsize': 14})\n",
        "plt.title('장르별 출고량 비율', fontsize = 20)\n",
        "plt.show()"
      ],
      "metadata": {
        "colab": {
          "base_uri": "https://localhost:8080/",
          "height": 596
        },
        "id": "xabWEZ5qeWN2",
        "outputId": "70edafd1-2d2a-42b0-d015-fc58f650d4e1"
      },
      "execution_count": null,
      "outputs": [
        {
          "output_type": "display_data",
          "data": {
            "text/plain": [
              "<Figure size 720x720 with 1 Axes>"
            ],
            "image/png": "[encoded data removed]"
          },
          "metadata": {}
        }
      ]
    },
    {
      "cell_type": "code",
      "source": [
        ""
      ],
      "metadata": {
        "id": "R2iHWnh0i7sp"
      },
      "execution_count": null,
      "outputs": []
    }
  ]
}